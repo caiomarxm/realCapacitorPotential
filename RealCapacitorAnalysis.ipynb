{
 "cells": [
  {
   "cell_type": "code",
   "execution_count": 2,
   "id": "0b217388",
   "metadata": {},
   "outputs": [],
   "source": [
    "from numba import jit\n",
    "import numpy as np\n",
    "import matplotlib.pyplot as plt\n",
    "import matplotlib as mpl\n",
    "from matplotlib import cm\n",
    "import time\n",
    "# dec. sobre a função: @jit(nopython=True)"
   ]
  },
  {
   "cell_type": "code",
   "execution_count": 3,
   "id": "0bc7dacb",
   "metadata": {},
   "outputs": [
    {
     "name": "stdout",
     "output_type": "stream",
     "text": [
      "Iterations: 199\n"
     ]
    },
    {
     "data": {
      "text/plain": [
       "Text(0, 0.5, 'Potential (V)')"
      ]
     },
     "execution_count": 3,
     "metadata": {},
     "output_type": "execute_result"
    },
    {
     "data": {
      "image/png": "[encoded data removed]",
      "text/plain": [
       "<Figure size 432x288 with 1 Axes>"
      ]
     },
     "metadata": {
      "needs_background": "light"
     },
     "output_type": "display_data"
    }
   ],
   "source": [
    "## Unidimensional Region Between Plates ##\n",
    "\n",
    "n = 100\n",
    "initialGuess = np.zeros(n)\n",
    "initialGuess[-1], initialGuess[0] = 1, -1\n",
    "domain = np.arange(n)/n - 0.5\n",
    "w = 1.941\n",
    "\n",
    "def sorMethod1D(potential, convergenceCriteria, w):\n",
    "    n = potential.shape[0]\n",
    "    iterations = 0\n",
    "    residue = 1\n",
    "    wBest, nIterations = 0, 10000\n",
    "    \n",
    "    while residue > convergenceCriteria:\n",
    "        iterations += 1\n",
    "        formerPotential = np.copy(potential)\n",
    "        for j in range(1, n-1):\n",
    "            potential[j] = (1-w)*potential[j] + w*(potential[j-1] + potential[j+1])/2\n",
    "        residue = np.linalg.norm(potential - formerPotential)\n",
    "        if iterations >= 20000:\n",
    "            print(f'Exceeded maximum iterations allowed (w = {w})')\n",
    "            print(f'Current residue: {residue}')\n",
    "            break        \n",
    "    return (potential, iterations)\n",
    "\n",
    "potentialBetweenPlates, iterations = sorMethod1D(initialGuess, 1e-4, w)\n",
    "\n",
    "\n",
    "print(f'Iterations: {iterations}')\n",
    "plt.plot(domain , potentialBetweenPlates)\n",
    "plt.title(\"Potential X Distance\", fontsize=16)\n",
    "plt.xlabel(\"Distance (x/L)\", fontsize=14)\n",
    "plt.ylabel(\"Potential (V)\", fontsize=14)"
   ]
  },
  {
   "cell_type": "code",
   "execution_count": 8,
   "id": "55dde4b2",
   "metadata": {},
   "outputs": [
    {
     "data": {
      "text/plain": [
       "[<matplotlib.lines.Line2D at 0x23438d26fe0>]"
      ]
     },
     "execution_count": 8,
     "metadata": {},
     "output_type": "execute_result"
    },
    {
     "data": {
      "image/png": "[encoded data removed]",
      "text/plain": [
       "<Figure size 432x288 with 1 Axes>"
      ]
     },
     "metadata": {
      "needs_background": "light"
     },
     "output_type": "display_data"
    }
   ],
   "source": [
    "## Bidimensional Case: First Quadrant ##\n",
    "\n",
    "## Parameters ##\n",
    "V0 = 1\n",
    "lx = 2\n",
    "d = 2\n",
    "Dx, Dy = 2, 2\n",
    "h = 0.5\n",
    "Nx, Ny, Nh, Nl = int(Dx/h), int(Dy/h), int(d/(2*h)), int(lx/(2*h))\n",
    "\n",
    "    \n",
    "## Visualizing the Grid ##\n",
    "x, y = np.meshgrid(np.linspace(0, Nx, Nx+1), np.linspace(0, Ny, Ny+1))\n",
    "\n",
    "plt.scatter(x, y)\n",
    "\n",
    "xCapacitor = np.array([0, Nl])\n",
    "yCapacitor = np.array([Nh, Nh])\n",
    "\n",
    "plt.plot(xCapacitor, yCapacitor, 'ro', linestyle='--')"
   ]
  },
  {
   "cell_type": "code",
   "execution_count": 10,
   "id": "c4d37d6f",
   "metadata": {},
   "outputs": [
    {
     "name": "stdout",
     "output_type": "stream",
     "text": [
      "Iterations: 14\n",
      "[[0.         0.24622625 0.5        0.2462263  0.        ]\n",
      " [0.         0.23867919 0.5        0.23867921 0.        ]\n",
      " [0.         0.20849054 0.5        0.20849055 0.        ]\n",
      " [0.         0.09528301 0.1726415  0.09528301 0.        ]\n",
      " [0.         0.         0.         0.         0.        ]]\n"
     ]
    },
    {
     "data": {
      "text/plain": [
       "<matplotlib.colorbar.Colorbar at 0x23439074160>"
      ]
     },
     "execution_count": 10,
     "metadata": {},
     "output_type": "execute_result"
    },
    {
     "data": {
      "image/png": "[encoded data removed]",
      "text/plain": [
       "<Figure size 432x288 with 2 Axes>"
      ]
     },
     "metadata": {
      "needs_background": "light"
     },
     "output_type": "display_data"
    }
   ],
   "source": [
    "## Setting Initial Guess ##\n",
    "initialGuess = np.resize(np.zeros(1), (Nx+1, Ny+1))\n",
    "for i in range(Nl+1):\n",
    "    initialGuess[i][Nh] = 0.5\n",
    "potential = np.copy(initialGuess)\n",
    "\n",
    "## SOR Method for Test Case##\n",
    "residue = 1\n",
    "convergenceCriteria = 1e-6\n",
    "iterations = 0\n",
    "w = 1\n",
    "\n",
    "while residue > convergenceCriteria:\n",
    "    iterations += 1\n",
    "    formerPotential = np.copy(potential)\n",
    "    for i in range(Nx):\n",
    "        for j in range(1, Ny):\n",
    "            if j == Nh and i <= Nl:\n",
    "                continue\n",
    "            if i==0:\n",
    "                potential[i][j] = (1-w)*potential[i][j] + w*(potential[i][j-1] + potential[i][j+1] + potential[i+1][j] + potential[i][j])/4\n",
    "                continue\n",
    "            potential[i][j] = (1-w)*potential[i][j] + w*(potential[i][j-1] + potential[i][j+1] + potential[i+1][j] + potential[i-1][j])/4\n",
    "    residue = np.linalg.norm(potential - formerPotential)\n",
    "    if iterations >= 20000:\n",
    "        print(f'Exceeded maximum iterations allowed (w = {w})')\n",
    "        print(f'Current residue: {residue}')\n",
    "        break\n",
    "\n",
    "print(f'Iterations: {iterations}')\n",
    "print(potential)\n",
    "\n",
    "fig, ax = plt.subplots(1, 1)\n",
    "im = ax.imshow(potential)\n",
    "fig.colorbar(im)\n"
   ]
  },
  {
   "cell_type": "code",
   "execution_count": null,
   "id": "29f0b7dc",
   "metadata": {},
   "outputs": [],
   "source": []
  }
 ],
 "metadata": {
  "kernelspec": {
   "display_name": "Python 3 (ipykernel)",
   "language": "python",
   "name": "python3"
  },
  "language_info": {
   "codemirror_mode": {
    "name": "ipython",
    "version": 3
   },
   "file_extension": ".py",
   "mimetype": "text/x-python",
   "name": "python",
   "nbconvert_exporter": "python",
   "pygments_lexer": "ipython3",
   "version": "3.10.5"
  }
 },
 "nbformat": 4,
 "nbformat_minor": 5
}
